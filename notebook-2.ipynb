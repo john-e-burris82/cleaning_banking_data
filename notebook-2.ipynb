{
 "cells": [
  {
   "cell_type": "code",
   "execution_count": null,
   "id": "2e25fdd8-4d84-45bc-80f0-949917e00a17",
   "metadata": {
    "vscode": {
     "languageId": "python"
    }
   },
   "outputs": [],
   "source": [
    "# Importing course packages; you can add more too!\n",
    "import pandas as pd\n",
    "import numpy as np\n",
    "import datetime as dt\n",
    "\n",
    "\n",
    "# Importing course datasets as DataFrames\n",
    "banking = pd.read_csv('.../banking_dirty.csv', index_col = 'Unnamed: 0')"
   ]
  },
  {
   "cell_type": "markdown",
   "id": "18023f22",
   "metadata": {},
   "source": [
    "# Cleaning Data Set 3: Some dirty banking data"
   ]
  },
  {
   "cell_type": "code",
   "execution_count": null,
   "id": "fab9a4cc-978c-430f-8592-37c580565b51",
   "metadata": {
    "vscode": {
     "languageId": "python"
    }
   },
   "outputs": [
    {
     "name": "stdout",
     "output_type": "stream",
     "text": [
      "<class 'pandas.core.frame.DataFrame'>\n",
      "Int64Index: 100 entries, 0 to 99\n",
      "Data columns (total 11 columns):\n",
      " #   Column            Non-Null Count  Dtype  \n",
      "---  ------            --------------  -----  \n",
      " 0   cust_id           100 non-null    object \n",
      " 1   birth_date        100 non-null    object \n",
      " 2   Age               100 non-null    int64  \n",
      " 3   acct_amount       100 non-null    float64\n",
      " 4   inv_amount        100 non-null    int64  \n",
      " 5   fund_A            100 non-null    float64\n",
      " 6   fund_B            100 non-null    float64\n",
      " 7   fund_C            100 non-null    float64\n",
      " 8   fund_D            100 non-null    float64\n",
      " 9   account_opened    100 non-null    object \n",
      " 10  last_transaction  100 non-null    object \n",
      "dtypes: float64(5), int64(2), object(4)\n",
      "memory usage: 9.4+ KB\n"
     ]
    }
   ],
   "source": [
    "# Let's inspect the data\n",
    "\n",
    "banking.info()"
   ]
  },
  {
   "cell_type": "markdown",
   "id": "a7ac838b-fa08-4d27-8c68-88ba53ba9d3b",
   "metadata": {},
   "source": [
    "## Banking Summary\n",
    "The banking data set consists of 100 customers. It contains 11 varialbes. They consist of a customer id, customer birthday, customer age, current amount, investment amount, 4 funds that the current amount could be spread across, when the account was opened, and the last transation date. By this view, we should have 1 object, 3 date, 1 integer, and 6 float data types. Based upon the info provided, we have some work to do. All three date columns need need to be changed to dates. Two of the date columns need reformatting. After working on the dates, we will verify the 'age' column is current based on the 'birth_date' column. Finally, we will make sure all the floats have two decimal places after changing 'inv_amount' to a float."
   ]
  },
  {
   "cell_type": "code",
   "execution_count": null,
   "id": "357e2f9d-743f-4829-b168-42ac1fda890d",
   "metadata": {
    "vscode": {
     "languageId": "python"
    }
   },
   "outputs": [
    {
     "data": {
      "application/com.datacamp.data-table.v1+json": {
       "is_truncated": false,
       "table": {
        "data": [
         {
          "Age": 58,
          "account_opened": "02-09-18",
          "acct_amount": 63523.31,
          "birth_date": "1962-06-09",
          "cust_id": "870A9281",
          "fund_A": 30105,
          "fund_B": 4138,
          "fund_C": 1420,
          "fund_D": 15632,
          "index": 0,
          "inv_amount": 51295,
          "last_transaction": "22-02-19"
         },
         {
          "Age": 58,
          "account_opened": "28-02-19",
          "acct_amount": 38175.46,
          "birth_date": "1962-12-16",
          "cust_id": "166B05B0",
          "fund_A": 4995,
          "fund_B": 938,
          "fund_C": 6696,
          "fund_D": 2421,
          "index": 1,
          "inv_amount": 15050,
          "last_transaction": "31-10-18"
         },
         {
          "Age": 34,
          "account_opened": "25-04-18",
          "acct_amount": 59863.77,
          "birth_date": "1990-09-12",
          "cust_id": "BFC13E88",
          "fund_A": 10323,
          "fund_B": 4590,
          "fund_C": 8469,
          "fund_D": 1185,
          "index": 2,
          "inv_amount": 24567,
          "last_transaction": "02-04-18"
         },
         {
          "Age": 35,
          "account_opened": "07-11-17",
          "acct_amount": 84132.1,
          "birth_date": "1985-11-03",
          "cust_id": "F2158F66",
          "fund_A": 3908,
          "fund_B": 492,
          "fund_C": 6482,
          "fund_D": 12830,
          "index": 3,
          "inv_amount": 23712,
          "last_transaction": "08-11-18"
         },
         {
          "Age": 30,
          "account_opened": "14-05-18",
          "acct_amount": 120512,
          "birth_date": "1990-05-17",
          "cust_id": "7A73F334",
          "fund_A": 12158.4,
          "fund_B": 51281,
          "fund_C": 13434,
          "fund_D": 18383,
          "index": 4,
          "inv_amount": 93230,
          "last_transaction": "19-07-18"
         },
         {
          "Age": 40,
          "account_opened": "14-12-18",
          "acct_amount": 83127.65,
          "birth_date": "1980-02-23",
          "cust_id": "472341F2",
          "fund_A": 12686,
          "fund_B": 19776,
          "fund_C": 23707,
          "fund_D": 11791,
          "index": 5,
          "inv_amount": 67960,
          "last_transaction": "22-04-18"
         },
         {
          "Age": 43,
          "account_opened": "06-02-18",
          "acct_amount": 89855.98,
          "birth_date": "1977-08-26",
          "cust_id": "6B094617",
          "fund_A": 1796,
          "fund_B": 312,
          "fund_C": 20610,
          "fund_D": 11831,
          "index": 6,
          "inv_amount": 34549,
          "last_transaction": "14-02-19"
         },
         {
          "Age": 57,
          "account_opened": "03-04-17",
          "acct_amount": 73951.45,
          "birth_date": "1963-10-14",
          "cust_id": "80C0DAB3",
          "fund_A": 15290,
          "fund_B": 3991,
          "fund_C": 36728,
          "fund_D": 5640,
          "index": 7,
          "inv_amount": 61649,
          "last_transaction": "21-09-19"
         },
         {
          "Age": 49,
          "account_opened": "22-05-17",
          "acct_amount": 61795.89,
          "birth_date": "1975-06-05",
          "cust_id": "E52D4C7F",
          "fund_A": 12939,
          "fund_B": 7757,
          "fund_C": 12569,
          "fund_D": 16120,
          "index": 8,
          "inv_amount": 49385,
          "last_transaction": "24-10-19"
         },
         {
          "Age": 55,
          "account_opened": "18-07-17",
          "acct_amount": 82084.76,
          "birth_date": "1965-01-04",
          "cust_id": "BD7CF5D7",
          "fund_A": 18966,
          "fund_B": 523,
          "fund_C": 4903,
          "fund_D": 19946,
          "index": 9,
          "inv_amount": 44338,
          "last_transaction": "26-02-20"
         }
        ],
        "schema": {
         "fields": [
          {
           "name": "index",
           "type": "integer"
          },
          {
           "name": "cust_id",
           "type": "string"
          },
          {
           "name": "birth_date",
           "type": "string"
          },
          {
           "name": "Age",
           "type": "integer"
          },
          {
           "name": "acct_amount",
           "type": "number"
          },
          {
           "name": "inv_amount",
           "type": "integer"
          },
          {
           "name": "fund_A",
           "type": "number"
          },
          {
           "name": "fund_B",
           "type": "number"
          },
          {
           "name": "fund_C",
           "type": "number"
          },
          {
           "name": "fund_D",
           "type": "number"
          },
          {
           "name": "account_opened",
           "type": "string"
          },
          {
           "name": "last_transaction",
           "type": "string"
          }
         ],
         "pandas_version": "0.20.0",
         "primaryKey": [
          "index"
         ]
        }
       },
       "total_rows": 10
      },
      "text/html": [
       "<div>\n",
       "<style scoped>\n",
       "    .dataframe tbody tr th:only-of-type {\n",
       "        vertical-align: middle;\n",
       "    }\n",
       "\n",
       "    .dataframe tbody tr th {\n",
       "        vertical-align: top;\n",
       "    }\n",
       "\n",
       "    .dataframe thead th {\n",
       "        text-align: right;\n",
       "    }\n",
       "</style>\n",
       "<table border=\"1\" class=\"dataframe\">\n",
       "  <thead>\n",
       "    <tr style=\"text-align: right;\">\n",
       "      <th></th>\n",
       "      <th>cust_id</th>\n",
       "      <th>birth_date</th>\n",
       "      <th>Age</th>\n",
       "      <th>acct_amount</th>\n",
       "      <th>inv_amount</th>\n",
       "      <th>fund_A</th>\n",
       "      <th>fund_B</th>\n",
       "      <th>fund_C</th>\n",
       "      <th>fund_D</th>\n",
       "      <th>account_opened</th>\n",
       "      <th>last_transaction</th>\n",
       "    </tr>\n",
       "  </thead>\n",
       "  <tbody>\n",
       "    <tr>\n",
       "      <th>0</th>\n",
       "      <td>870A9281</td>\n",
       "      <td>1962-06-09</td>\n",
       "      <td>58</td>\n",
       "      <td>63,523.31</td>\n",
       "      <td>51295</td>\n",
       "      <td>30,105.00</td>\n",
       "      <td>4,138.00</td>\n",
       "      <td>1,420.00</td>\n",
       "      <td>15,632.00</td>\n",
       "      <td>02-09-18</td>\n",
       "      <td>22-02-19</td>\n",
       "    </tr>\n",
       "    <tr>\n",
       "      <th>1</th>\n",
       "      <td>166B05B0</td>\n",
       "      <td>1962-12-16</td>\n",
       "      <td>58</td>\n",
       "      <td>38,175.46</td>\n",
       "      <td>15050</td>\n",
       "      <td>4,995.00</td>\n",
       "      <td>938.00</td>\n",
       "      <td>6,696.00</td>\n",
       "      <td>2,421.00</td>\n",
       "      <td>28-02-19</td>\n",
       "      <td>31-10-18</td>\n",
       "    </tr>\n",
       "    <tr>\n",
       "      <th>2</th>\n",
       "      <td>BFC13E88</td>\n",
       "      <td>1990-09-12</td>\n",
       "      <td>34</td>\n",
       "      <td>59,863.77</td>\n",
       "      <td>24567</td>\n",
       "      <td>10,323.00</td>\n",
       "      <td>4,590.00</td>\n",
       "      <td>8,469.00</td>\n",
       "      <td>1,185.00</td>\n",
       "      <td>25-04-18</td>\n",
       "      <td>02-04-18</td>\n",
       "    </tr>\n",
       "    <tr>\n",
       "      <th>3</th>\n",
       "      <td>F2158F66</td>\n",
       "      <td>1985-11-03</td>\n",
       "      <td>35</td>\n",
       "      <td>84,132.10</td>\n",
       "      <td>23712</td>\n",
       "      <td>3,908.00</td>\n",
       "      <td>492.00</td>\n",
       "      <td>6,482.00</td>\n",
       "      <td>12,830.00</td>\n",
       "      <td>07-11-17</td>\n",
       "      <td>08-11-18</td>\n",
       "    </tr>\n",
       "    <tr>\n",
       "      <th>4</th>\n",
       "      <td>7A73F334</td>\n",
       "      <td>1990-05-17</td>\n",
       "      <td>30</td>\n",
       "      <td>120,512.00</td>\n",
       "      <td>93230</td>\n",
       "      <td>12,158.40</td>\n",
       "      <td>51,281.00</td>\n",
       "      <td>13,434.00</td>\n",
       "      <td>18,383.00</td>\n",
       "      <td>14-05-18</td>\n",
       "      <td>19-07-18</td>\n",
       "    </tr>\n",
       "    <tr>\n",
       "      <th>5</th>\n",
       "      <td>472341F2</td>\n",
       "      <td>1980-02-23</td>\n",
       "      <td>40</td>\n",
       "      <td>83,127.65</td>\n",
       "      <td>67960</td>\n",
       "      <td>12,686.00</td>\n",
       "      <td>19,776.00</td>\n",
       "      <td>23,707.00</td>\n",
       "      <td>11,791.00</td>\n",
       "      <td>14-12-18</td>\n",
       "      <td>22-04-18</td>\n",
       "    </tr>\n",
       "    <tr>\n",
       "      <th>6</th>\n",
       "      <td>6B094617</td>\n",
       "      <td>1977-08-26</td>\n",
       "      <td>43</td>\n",
       "      <td>89,855.98</td>\n",
       "      <td>34549</td>\n",
       "      <td>1,796.00</td>\n",
       "      <td>312.00</td>\n",
       "      <td>20,610.00</td>\n",
       "      <td>11,831.00</td>\n",
       "      <td>06-02-18</td>\n",
       "      <td>14-02-19</td>\n",
       "    </tr>\n",
       "    <tr>\n",
       "      <th>7</th>\n",
       "      <td>80C0DAB3</td>\n",
       "      <td>1963-10-14</td>\n",
       "      <td>57</td>\n",
       "      <td>73,951.45</td>\n",
       "      <td>61649</td>\n",
       "      <td>15,290.00</td>\n",
       "      <td>3,991.00</td>\n",
       "      <td>36,728.00</td>\n",
       "      <td>5,640.00</td>\n",
       "      <td>03-04-17</td>\n",
       "      <td>21-09-19</td>\n",
       "    </tr>\n",
       "    <tr>\n",
       "      <th>8</th>\n",
       "      <td>E52D4C7F</td>\n",
       "      <td>1975-06-05</td>\n",
       "      <td>49</td>\n",
       "      <td>61,795.89</td>\n",
       "      <td>49385</td>\n",
       "      <td>12,939.00</td>\n",
       "      <td>7,757.00</td>\n",
       "      <td>12,569.00</td>\n",
       "      <td>16,120.00</td>\n",
       "      <td>22-05-17</td>\n",
       "      <td>24-10-19</td>\n",
       "    </tr>\n",
       "    <tr>\n",
       "      <th>9</th>\n",
       "      <td>BD7CF5D7</td>\n",
       "      <td>1965-01-04</td>\n",
       "      <td>55</td>\n",
       "      <td>82,084.76</td>\n",
       "      <td>44338</td>\n",
       "      <td>18,966.00</td>\n",
       "      <td>523.00</td>\n",
       "      <td>4,903.00</td>\n",
       "      <td>19,946.00</td>\n",
       "      <td>18-07-17</td>\n",
       "      <td>26-02-20</td>\n",
       "    </tr>\n",
       "  </tbody>\n",
       "</table>\n",
       "</div>"
      ],
      "text/plain": [
       "    cust_id  birth_date  Age  acct_amount  inv_amount    fund_A    fund_B  \\\n",
       "0  870A9281  1962-06-09   58    63,523.31       51295 30,105.00  4,138.00   \n",
       "1  166B05B0  1962-12-16   58    38,175.46       15050  4,995.00    938.00   \n",
       "2  BFC13E88  1990-09-12   34    59,863.77       24567 10,323.00  4,590.00   \n",
       "3  F2158F66  1985-11-03   35    84,132.10       23712  3,908.00    492.00   \n",
       "4  7A73F334  1990-05-17   30   120,512.00       93230 12,158.40 51,281.00   \n",
       "5  472341F2  1980-02-23   40    83,127.65       67960 12,686.00 19,776.00   \n",
       "6  6B094617  1977-08-26   43    89,855.98       34549  1,796.00    312.00   \n",
       "7  80C0DAB3  1963-10-14   57    73,951.45       61649 15,290.00  3,991.00   \n",
       "8  E52D4C7F  1975-06-05   49    61,795.89       49385 12,939.00  7,757.00   \n",
       "9  BD7CF5D7  1965-01-04   55    82,084.76       44338 18,966.00    523.00   \n",
       "\n",
       "     fund_C    fund_D account_opened last_transaction  \n",
       "0  1,420.00 15,632.00       02-09-18         22-02-19  \n",
       "1  6,696.00  2,421.00       28-02-19         31-10-18  \n",
       "2  8,469.00  1,185.00       25-04-18         02-04-18  \n",
       "3  6,482.00 12,830.00       07-11-17         08-11-18  \n",
       "4 13,434.00 18,383.00       14-05-18         19-07-18  \n",
       "5 23,707.00 11,791.00       14-12-18         22-04-18  \n",
       "6 20,610.00 11,831.00       06-02-18         14-02-19  \n",
       "7 36,728.00  5,640.00       03-04-17         21-09-19  \n",
       "8 12,569.00 16,120.00       22-05-17         24-10-19  \n",
       "9  4,903.00 19,946.00       18-07-17         26-02-20  "
      ]
     },
     "execution_count": 135,
     "metadata": {},
     "output_type": "execute_result"
    }
   ],
   "source": [
    "banking.head(10)"
   ]
  },
  {
   "cell_type": "code",
   "execution_count": null,
   "id": "5f0fa4d0-25e0-4143-8483-e7c4738b6781",
   "metadata": {
    "vscode": {
     "languageId": "python"
    }
   },
   "outputs": [
    {
     "data": {
      "application/com.datacamp.data-table.v1+json": {
       "is_truncated": false,
       "table": {
        "data": [
         {
          "Age": 58,
          "account_opened": "02-09-18",
          "acct_amount": 63523.31,
          "birth_date": "1962-06-09T00:00:00.000Z",
          "cust_id": "870A9281",
          "fund_A": 30105,
          "fund_B": 4138,
          "fund_C": 1420,
          "fund_D": 15632,
          "index": 0,
          "inv_amount": 51295,
          "last_transaction": "22-02-19"
         },
         {
          "Age": 58,
          "account_opened": "28-02-19",
          "acct_amount": 38175.46,
          "birth_date": "1962-12-16T00:00:00.000Z",
          "cust_id": "166B05B0",
          "fund_A": 4995,
          "fund_B": 938,
          "fund_C": 6696,
          "fund_D": 2421,
          "index": 1,
          "inv_amount": 15050,
          "last_transaction": "31-10-18"
         },
         {
          "Age": 34,
          "account_opened": "25-04-18",
          "acct_amount": 59863.77,
          "birth_date": "1990-09-12T00:00:00.000Z",
          "cust_id": "BFC13E88",
          "fund_A": 10323,
          "fund_B": 4590,
          "fund_C": 8469,
          "fund_D": 1185,
          "index": 2,
          "inv_amount": 24567,
          "last_transaction": "02-04-18"
         },
         {
          "Age": 35,
          "account_opened": "07-11-17",
          "acct_amount": 84132.1,
          "birth_date": "1985-11-03T00:00:00.000Z",
          "cust_id": "F2158F66",
          "fund_A": 3908,
          "fund_B": 492,
          "fund_C": 6482,
          "fund_D": 12830,
          "index": 3,
          "inv_amount": 23712,
          "last_transaction": "08-11-18"
         },
         {
          "Age": 30,
          "account_opened": "14-05-18",
          "acct_amount": 120512,
          "birth_date": "1990-05-17T00:00:00.000Z",
          "cust_id": "7A73F334",
          "fund_A": 12158.4,
          "fund_B": 51281,
          "fund_C": 13434,
          "fund_D": 18383,
          "index": 4,
          "inv_amount": 93230,
          "last_transaction": "19-07-18"
         }
        ],
        "schema": {
         "fields": [
          {
           "name": "index",
           "type": "integer"
          },
          {
           "name": "cust_id",
           "type": "string"
          },
          {
           "name": "birth_date",
           "type": "datetime"
          },
          {
           "name": "Age",
           "type": "integer"
          },
          {
           "name": "acct_amount",
           "type": "number"
          },
          {
           "name": "inv_amount",
           "type": "integer"
          },
          {
           "name": "fund_A",
           "type": "number"
          },
          {
           "name": "fund_B",
           "type": "number"
          },
          {
           "name": "fund_C",
           "type": "number"
          },
          {
           "name": "fund_D",
           "type": "number"
          },
          {
           "name": "account_opened",
           "type": "string"
          },
          {
           "name": "last_transaction",
           "type": "string"
          }
         ],
         "pandas_version": "0.20.0",
         "primaryKey": [
          "index"
         ]
        }
       },
       "total_rows": 5
      },
      "text/html": [
       "<div>\n",
       "<style scoped>\n",
       "    .dataframe tbody tr th:only-of-type {\n",
       "        vertical-align: middle;\n",
       "    }\n",
       "\n",
       "    .dataframe tbody tr th {\n",
       "        vertical-align: top;\n",
       "    }\n",
       "\n",
       "    .dataframe thead th {\n",
       "        text-align: right;\n",
       "    }\n",
       "</style>\n",
       "<table border=\"1\" class=\"dataframe\">\n",
       "  <thead>\n",
       "    <tr style=\"text-align: right;\">\n",
       "      <th></th>\n",
       "      <th>cust_id</th>\n",
       "      <th>birth_date</th>\n",
       "      <th>Age</th>\n",
       "      <th>acct_amount</th>\n",
       "      <th>inv_amount</th>\n",
       "      <th>fund_A</th>\n",
       "      <th>fund_B</th>\n",
       "      <th>fund_C</th>\n",
       "      <th>fund_D</th>\n",
       "      <th>account_opened</th>\n",
       "      <th>last_transaction</th>\n",
       "    </tr>\n",
       "  </thead>\n",
       "  <tbody>\n",
       "    <tr>\n",
       "      <th>0</th>\n",
       "      <td>870A9281</td>\n",
       "      <td>1962-06-09</td>\n",
       "      <td>58</td>\n",
       "      <td>63,523.31</td>\n",
       "      <td>51295</td>\n",
       "      <td>30,105.00</td>\n",
       "      <td>4,138.00</td>\n",
       "      <td>1,420.00</td>\n",
       "      <td>15,632.00</td>\n",
       "      <td>02-09-18</td>\n",
       "      <td>22-02-19</td>\n",
       "    </tr>\n",
       "    <tr>\n",
       "      <th>1</th>\n",
       "      <td>166B05B0</td>\n",
       "      <td>1962-12-16</td>\n",
       "      <td>58</td>\n",
       "      <td>38,175.46</td>\n",
       "      <td>15050</td>\n",
       "      <td>4,995.00</td>\n",
       "      <td>938.00</td>\n",
       "      <td>6,696.00</td>\n",
       "      <td>2,421.00</td>\n",
       "      <td>28-02-19</td>\n",
       "      <td>31-10-18</td>\n",
       "    </tr>\n",
       "    <tr>\n",
       "      <th>2</th>\n",
       "      <td>BFC13E88</td>\n",
       "      <td>1990-09-12</td>\n",
       "      <td>34</td>\n",
       "      <td>59,863.77</td>\n",
       "      <td>24567</td>\n",
       "      <td>10,323.00</td>\n",
       "      <td>4,590.00</td>\n",
       "      <td>8,469.00</td>\n",
       "      <td>1,185.00</td>\n",
       "      <td>25-04-18</td>\n",
       "      <td>02-04-18</td>\n",
       "    </tr>\n",
       "    <tr>\n",
       "      <th>3</th>\n",
       "      <td>F2158F66</td>\n",
       "      <td>1985-11-03</td>\n",
       "      <td>35</td>\n",
       "      <td>84,132.10</td>\n",
       "      <td>23712</td>\n",
       "      <td>3,908.00</td>\n",
       "      <td>492.00</td>\n",
       "      <td>6,482.00</td>\n",
       "      <td>12,830.00</td>\n",
       "      <td>07-11-17</td>\n",
       "      <td>08-11-18</td>\n",
       "    </tr>\n",
       "    <tr>\n",
       "      <th>4</th>\n",
       "      <td>7A73F334</td>\n",
       "      <td>1990-05-17</td>\n",
       "      <td>30</td>\n",
       "      <td>120,512.00</td>\n",
       "      <td>93230</td>\n",
       "      <td>12,158.40</td>\n",
       "      <td>51,281.00</td>\n",
       "      <td>13,434.00</td>\n",
       "      <td>18,383.00</td>\n",
       "      <td>14-05-18</td>\n",
       "      <td>19-07-18</td>\n",
       "    </tr>\n",
       "  </tbody>\n",
       "</table>\n",
       "</div>"
      ],
      "text/plain": [
       "    cust_id birth_date  Age  acct_amount  inv_amount    fund_A    fund_B  \\\n",
       "0  870A9281 1962-06-09   58    63,523.31       51295 30,105.00  4,138.00   \n",
       "1  166B05B0 1962-12-16   58    38,175.46       15050  4,995.00    938.00   \n",
       "2  BFC13E88 1990-09-12   34    59,863.77       24567 10,323.00  4,590.00   \n",
       "3  F2158F66 1985-11-03   35    84,132.10       23712  3,908.00    492.00   \n",
       "4  7A73F334 1990-05-17   30   120,512.00       93230 12,158.40 51,281.00   \n",
       "\n",
       "     fund_C    fund_D account_opened last_transaction  \n",
       "0  1,420.00 15,632.00       02-09-18         22-02-19  \n",
       "1  6,696.00  2,421.00       28-02-19         31-10-18  \n",
       "2  8,469.00  1,185.00       25-04-18         02-04-18  \n",
       "3  6,482.00 12,830.00       07-11-17         08-11-18  \n",
       "4 13,434.00 18,383.00       14-05-18         19-07-18  "
      ]
     },
     "execution_count": 136,
     "metadata": {},
     "output_type": "execute_result"
    }
   ],
   "source": [
    "# Playing with some dates\n",
    "# 'birth_date' Column\n",
    "\n",
    "banking['birth_date'] = pd.to_datetime(banking['birth_date'])\n",
    "\n",
    "banking.head()"
   ]
  },
  {
   "cell_type": "code",
   "execution_count": null,
   "id": "54a04b93-14ec-4aaa-a8c0-aa6ad45f0faa",
   "metadata": {
    "vscode": {
     "languageId": "python"
    }
   },
   "outputs": [
    {
     "data": {
      "application/com.datacamp.data-table.v1+json": {
       "is_truncated": false,
       "table": {
        "data": [
         {
          "Age": 58,
          "account_opened": "2018-09-02",
          "acct_amount": 63523.31,
          "birth_date": "1962-06-09T00:00:00.000Z",
          "cust_id": "870A9281",
          "fund_A": 30105,
          "fund_B": 4138,
          "fund_C": 1420,
          "fund_D": 15632,
          "index": 0,
          "inv_amount": 51295,
          "last_transaction": "22-02-19"
         },
         {
          "Age": 58,
          "account_opened": "2019-02-28",
          "acct_amount": 38175.46,
          "birth_date": "1962-12-16T00:00:00.000Z",
          "cust_id": "166B05B0",
          "fund_A": 4995,
          "fund_B": 938,
          "fund_C": 6696,
          "fund_D": 2421,
          "index": 1,
          "inv_amount": 15050,
          "last_transaction": "31-10-18"
         },
         {
          "Age": 34,
          "account_opened": "2018-04-25",
          "acct_amount": 59863.77,
          "birth_date": "1990-09-12T00:00:00.000Z",
          "cust_id": "BFC13E88",
          "fund_A": 10323,
          "fund_B": 4590,
          "fund_C": 8469,
          "fund_D": 1185,
          "index": 2,
          "inv_amount": 24567,
          "last_transaction": "02-04-18"
         },
         {
          "Age": 35,
          "account_opened": "2017-11-07",
          "acct_amount": 84132.1,
          "birth_date": "1985-11-03T00:00:00.000Z",
          "cust_id": "F2158F66",
          "fund_A": 3908,
          "fund_B": 492,
          "fund_C": 6482,
          "fund_D": 12830,
          "index": 3,
          "inv_amount": 23712,
          "last_transaction": "08-11-18"
         },
         {
          "Age": 30,
          "account_opened": "2018-05-14",
          "acct_amount": 120512,
          "birth_date": "1990-05-17T00:00:00.000Z",
          "cust_id": "7A73F334",
          "fund_A": 12158.4,
          "fund_B": 51281,
          "fund_C": 13434,
          "fund_D": 18383,
          "index": 4,
          "inv_amount": 93230,
          "last_transaction": "19-07-18"
         }
        ],
        "schema": {
         "fields": [
          {
           "name": "index",
           "type": "integer"
          },
          {
           "name": "cust_id",
           "type": "string"
          },
          {
           "name": "birth_date",
           "type": "datetime"
          },
          {
           "name": "Age",
           "type": "integer"
          },
          {
           "name": "acct_amount",
           "type": "number"
          },
          {
           "name": "inv_amount",
           "type": "integer"
          },
          {
           "name": "fund_A",
           "type": "number"
          },
          {
           "name": "fund_B",
           "type": "number"
          },
          {
           "name": "fund_C",
           "type": "number"
          },
          {
           "name": "fund_D",
           "type": "number"
          },
          {
           "name": "account_opened",
           "type": "string"
          },
          {
           "name": "last_transaction",
           "type": "string"
          }
         ],
         "pandas_version": "0.20.0",
         "primaryKey": [
          "index"
         ]
        }
       },
       "total_rows": 5
      },
      "text/html": [
       "<div>\n",
       "<style scoped>\n",
       "    .dataframe tbody tr th:only-of-type {\n",
       "        vertical-align: middle;\n",
       "    }\n",
       "\n",
       "    .dataframe tbody tr th {\n",
       "        vertical-align: top;\n",
       "    }\n",
       "\n",
       "    .dataframe thead th {\n",
       "        text-align: right;\n",
       "    }\n",
       "</style>\n",
       "<table border=\"1\" class=\"dataframe\">\n",
       "  <thead>\n",
       "    <tr style=\"text-align: right;\">\n",
       "      <th></th>\n",
       "      <th>cust_id</th>\n",
       "      <th>birth_date</th>\n",
       "      <th>Age</th>\n",
       "      <th>acct_amount</th>\n",
       "      <th>inv_amount</th>\n",
       "      <th>fund_A</th>\n",
       "      <th>fund_B</th>\n",
       "      <th>fund_C</th>\n",
       "      <th>fund_D</th>\n",
       "      <th>account_opened</th>\n",
       "      <th>last_transaction</th>\n",
       "    </tr>\n",
       "  </thead>\n",
       "  <tbody>\n",
       "    <tr>\n",
       "      <th>0</th>\n",
       "      <td>870A9281</td>\n",
       "      <td>1962-06-09</td>\n",
       "      <td>58</td>\n",
       "      <td>63,523.31</td>\n",
       "      <td>51295</td>\n",
       "      <td>30,105.00</td>\n",
       "      <td>4,138.00</td>\n",
       "      <td>1,420.00</td>\n",
       "      <td>15,632.00</td>\n",
       "      <td>2018-09-02</td>\n",
       "      <td>22-02-19</td>\n",
       "    </tr>\n",
       "    <tr>\n",
       "      <th>1</th>\n",
       "      <td>166B05B0</td>\n",
       "      <td>1962-12-16</td>\n",
       "      <td>58</td>\n",
       "      <td>38,175.46</td>\n",
       "      <td>15050</td>\n",
       "      <td>4,995.00</td>\n",
       "      <td>938.00</td>\n",
       "      <td>6,696.00</td>\n",
       "      <td>2,421.00</td>\n",
       "      <td>2019-02-28</td>\n",
       "      <td>31-10-18</td>\n",
       "    </tr>\n",
       "    <tr>\n",
       "      <th>2</th>\n",
       "      <td>BFC13E88</td>\n",
       "      <td>1990-09-12</td>\n",
       "      <td>34</td>\n",
       "      <td>59,863.77</td>\n",
       "      <td>24567</td>\n",
       "      <td>10,323.00</td>\n",
       "      <td>4,590.00</td>\n",
       "      <td>8,469.00</td>\n",
       "      <td>1,185.00</td>\n",
       "      <td>2018-04-25</td>\n",
       "      <td>02-04-18</td>\n",
       "    </tr>\n",
       "    <tr>\n",
       "      <th>3</th>\n",
       "      <td>F2158F66</td>\n",
       "      <td>1985-11-03</td>\n",
       "      <td>35</td>\n",
       "      <td>84,132.10</td>\n",
       "      <td>23712</td>\n",
       "      <td>3,908.00</td>\n",
       "      <td>492.00</td>\n",
       "      <td>6,482.00</td>\n",
       "      <td>12,830.00</td>\n",
       "      <td>2017-11-07</td>\n",
       "      <td>08-11-18</td>\n",
       "    </tr>\n",
       "    <tr>\n",
       "      <th>4</th>\n",
       "      <td>7A73F334</td>\n",
       "      <td>1990-05-17</td>\n",
       "      <td>30</td>\n",
       "      <td>120,512.00</td>\n",
       "      <td>93230</td>\n",
       "      <td>12,158.40</td>\n",
       "      <td>51,281.00</td>\n",
       "      <td>13,434.00</td>\n",
       "      <td>18,383.00</td>\n",
       "      <td>2018-05-14</td>\n",
       "      <td>19-07-18</td>\n",
       "    </tr>\n",
       "  </tbody>\n",
       "</table>\n",
       "</div>"
      ],
      "text/plain": [
       "    cust_id birth_date  Age  acct_amount  inv_amount    fund_A    fund_B  \\\n",
       "0  870A9281 1962-06-09   58    63,523.31       51295 30,105.00  4,138.00   \n",
       "1  166B05B0 1962-12-16   58    38,175.46       15050  4,995.00    938.00   \n",
       "2  BFC13E88 1990-09-12   34    59,863.77       24567 10,323.00  4,590.00   \n",
       "3  F2158F66 1985-11-03   35    84,132.10       23712  3,908.00    492.00   \n",
       "4  7A73F334 1990-05-17   30   120,512.00       93230 12,158.40 51,281.00   \n",
       "\n",
       "     fund_C    fund_D account_opened last_transaction  \n",
       "0  1,420.00 15,632.00     2018-09-02         22-02-19  \n",
       "1  6,696.00  2,421.00     2019-02-28         31-10-18  \n",
       "2  8,469.00  1,185.00     2018-04-25         02-04-18  \n",
       "3  6,482.00 12,830.00     2017-11-07         08-11-18  \n",
       "4 13,434.00 18,383.00     2018-05-14         19-07-18  "
      ]
     },
     "execution_count": 137,
     "metadata": {},
     "output_type": "execute_result"
    }
   ],
   "source": [
    "# If you look at the format of 'account_opened' and 'last_transaction', you will see that they are in the format dd-mm-yy. Nothing is inherently wrong with that format until you try to convert it with pd.to_datetime(). It will transition the year to the front, the day will become the month, and the month the day. To solve this, when we call pd.to_datetime() we need to tell Pandas what format to look for.\n",
    "\n",
    "# If you are following along, the code for these two variables will turn them into a datetime and then back into an object. \n",
    "banking['account_opened'] = pd.to_datetime(banking['account_opened'], format=\"%d-%m-%y\")\n",
    "banking['account_opened'] = banking['account_opened'].dt.strftime('%Y-%m-%d')\n",
    "banking.head()"
   ]
  },
  {
   "cell_type": "code",
   "execution_count": null,
   "id": "7b92f9c0-64f1-436b-a1aa-247cef5e3b3e",
   "metadata": {
    "vscode": {
     "languageId": "python"
    }
   },
   "outputs": [
    {
     "data": {
      "application/com.datacamp.data-table.v1+json": {
       "is_truncated": false,
       "table": {
        "data": [
         {
          "Age": 58,
          "account_opened": "2018-09-02",
          "acct_amount": 63523.31,
          "birth_date": "1962-06-09T00:00:00.000Z",
          "cust_id": "870A9281",
          "fund_A": 30105,
          "fund_B": 4138,
          "fund_C": 1420,
          "fund_D": 15632,
          "index": 0,
          "inv_amount": 51295,
          "last_transaction": "2019-02-22"
         },
         {
          "Age": 58,
          "account_opened": "2019-02-28",
          "acct_amount": 38175.46,
          "birth_date": "1962-12-16T00:00:00.000Z",
          "cust_id": "166B05B0",
          "fund_A": 4995,
          "fund_B": 938,
          "fund_C": 6696,
          "fund_D": 2421,
          "index": 1,
          "inv_amount": 15050,
          "last_transaction": "2018-10-31"
         },
         {
          "Age": 34,
          "account_opened": "2018-04-25",
          "acct_amount": 59863.77,
          "birth_date": "1990-09-12T00:00:00.000Z",
          "cust_id": "BFC13E88",
          "fund_A": 10323,
          "fund_B": 4590,
          "fund_C": 8469,
          "fund_D": 1185,
          "index": 2,
          "inv_amount": 24567,
          "last_transaction": "2018-04-02"
         },
         {
          "Age": 35,
          "account_opened": "2017-11-07",
          "acct_amount": 84132.1,
          "birth_date": "1985-11-03T00:00:00.000Z",
          "cust_id": "F2158F66",
          "fund_A": 3908,
          "fund_B": 492,
          "fund_C": 6482,
          "fund_D": 12830,
          "index": 3,
          "inv_amount": 23712,
          "last_transaction": "2018-11-08"
         },
         {
          "Age": 30,
          "account_opened": "2018-05-14",
          "acct_amount": 120512,
          "birth_date": "1990-05-17T00:00:00.000Z",
          "cust_id": "7A73F334",
          "fund_A": 12158.4,
          "fund_B": 51281,
          "fund_C": 13434,
          "fund_D": 18383,
          "index": 4,
          "inv_amount": 93230,
          "last_transaction": "2018-07-19"
         }
        ],
        "schema": {
         "fields": [
          {
           "name": "index",
           "type": "integer"
          },
          {
           "name": "cust_id",
           "type": "string"
          },
          {
           "name": "birth_date",
           "type": "datetime"
          },
          {
           "name": "Age",
           "type": "integer"
          },
          {
           "name": "acct_amount",
           "type": "number"
          },
          {
           "name": "inv_amount",
           "type": "integer"
          },
          {
           "name": "fund_A",
           "type": "number"
          },
          {
           "name": "fund_B",
           "type": "number"
          },
          {
           "name": "fund_C",
           "type": "number"
          },
          {
           "name": "fund_D",
           "type": "number"
          },
          {
           "name": "account_opened",
           "type": "string"
          },
          {
           "name": "last_transaction",
           "type": "string"
          }
         ],
         "pandas_version": "0.20.0",
         "primaryKey": [
          "index"
         ]
        }
       },
       "total_rows": 5
      },
      "text/html": [
       "<div>\n",
       "<style scoped>\n",
       "    .dataframe tbody tr th:only-of-type {\n",
       "        vertical-align: middle;\n",
       "    }\n",
       "\n",
       "    .dataframe tbody tr th {\n",
       "        vertical-align: top;\n",
       "    }\n",
       "\n",
       "    .dataframe thead th {\n",
       "        text-align: right;\n",
       "    }\n",
       "</style>\n",
       "<table border=\"1\" class=\"dataframe\">\n",
       "  <thead>\n",
       "    <tr style=\"text-align: right;\">\n",
       "      <th></th>\n",
       "      <th>cust_id</th>\n",
       "      <th>birth_date</th>\n",
       "      <th>Age</th>\n",
       "      <th>acct_amount</th>\n",
       "      <th>inv_amount</th>\n",
       "      <th>fund_A</th>\n",
       "      <th>fund_B</th>\n",
       "      <th>fund_C</th>\n",
       "      <th>fund_D</th>\n",
       "      <th>account_opened</th>\n",
       "      <th>last_transaction</th>\n",
       "    </tr>\n",
       "  </thead>\n",
       "  <tbody>\n",
       "    <tr>\n",
       "      <th>0</th>\n",
       "      <td>870A9281</td>\n",
       "      <td>1962-06-09</td>\n",
       "      <td>58</td>\n",
       "      <td>63,523.31</td>\n",
       "      <td>51295</td>\n",
       "      <td>30,105.00</td>\n",
       "      <td>4,138.00</td>\n",
       "      <td>1,420.00</td>\n",
       "      <td>15,632.00</td>\n",
       "      <td>2018-09-02</td>\n",
       "      <td>2019-02-22</td>\n",
       "    </tr>\n",
       "    <tr>\n",
       "      <th>1</th>\n",
       "      <td>166B05B0</td>\n",
       "      <td>1962-12-16</td>\n",
       "      <td>58</td>\n",
       "      <td>38,175.46</td>\n",
       "      <td>15050</td>\n",
       "      <td>4,995.00</td>\n",
       "      <td>938.00</td>\n",
       "      <td>6,696.00</td>\n",
       "      <td>2,421.00</td>\n",
       "      <td>2019-02-28</td>\n",
       "      <td>2018-10-31</td>\n",
       "    </tr>\n",
       "    <tr>\n",
       "      <th>2</th>\n",
       "      <td>BFC13E88</td>\n",
       "      <td>1990-09-12</td>\n",
       "      <td>34</td>\n",
       "      <td>59,863.77</td>\n",
       "      <td>24567</td>\n",
       "      <td>10,323.00</td>\n",
       "      <td>4,590.00</td>\n",
       "      <td>8,469.00</td>\n",
       "      <td>1,185.00</td>\n",
       "      <td>2018-04-25</td>\n",
       "      <td>2018-04-02</td>\n",
       "    </tr>\n",
       "    <tr>\n",
       "      <th>3</th>\n",
       "      <td>F2158F66</td>\n",
       "      <td>1985-11-03</td>\n",
       "      <td>35</td>\n",
       "      <td>84,132.10</td>\n",
       "      <td>23712</td>\n",
       "      <td>3,908.00</td>\n",
       "      <td>492.00</td>\n",
       "      <td>6,482.00</td>\n",
       "      <td>12,830.00</td>\n",
       "      <td>2017-11-07</td>\n",
       "      <td>2018-11-08</td>\n",
       "    </tr>\n",
       "    <tr>\n",
       "      <th>4</th>\n",
       "      <td>7A73F334</td>\n",
       "      <td>1990-05-17</td>\n",
       "      <td>30</td>\n",
       "      <td>120,512.00</td>\n",
       "      <td>93230</td>\n",
       "      <td>12,158.40</td>\n",
       "      <td>51,281.00</td>\n",
       "      <td>13,434.00</td>\n",
       "      <td>18,383.00</td>\n",
       "      <td>2018-05-14</td>\n",
       "      <td>2018-07-19</td>\n",
       "    </tr>\n",
       "  </tbody>\n",
       "</table>\n",
       "</div>"
      ],
      "text/plain": [
       "    cust_id birth_date  Age  acct_amount  inv_amount    fund_A    fund_B  \\\n",
       "0  870A9281 1962-06-09   58    63,523.31       51295 30,105.00  4,138.00   \n",
       "1  166B05B0 1962-12-16   58    38,175.46       15050  4,995.00    938.00   \n",
       "2  BFC13E88 1990-09-12   34    59,863.77       24567 10,323.00  4,590.00   \n",
       "3  F2158F66 1985-11-03   35    84,132.10       23712  3,908.00    492.00   \n",
       "4  7A73F334 1990-05-17   30   120,512.00       93230 12,158.40 51,281.00   \n",
       "\n",
       "     fund_C    fund_D account_opened last_transaction  \n",
       "0  1,420.00 15,632.00     2018-09-02       2019-02-22  \n",
       "1  6,696.00  2,421.00     2019-02-28       2018-10-31  \n",
       "2  8,469.00  1,185.00     2018-04-25       2018-04-02  \n",
       "3  6,482.00 12,830.00     2017-11-07       2018-11-08  \n",
       "4 13,434.00 18,383.00     2018-05-14       2018-07-19  "
      ]
     },
     "execution_count": 138,
     "metadata": {},
     "output_type": "execute_result"
    }
   ],
   "source": [
    "banking['last_transaction'] = pd.to_datetime(banking['last_transaction'], format=\"%d-%m-%y\")\n",
    "banking['last_transaction'] = banking['last_transaction'].dt.strftime('%Y-%m-%d')\n",
    "banking.head()"
   ]
  },
  {
   "cell_type": "code",
   "execution_count": null,
   "id": "3f9d8625-fac8-465b-81bc-e1ffc74964ce",
   "metadata": {
    "vscode": {
     "languageId": "python"
    }
   },
   "outputs": [
    {
     "data": {
      "text/plain": [
       "True     88\n",
       "False    12\n",
       "dtype: int64"
      ]
     },
     "execution_count": 139,
     "metadata": {},
     "output_type": "execute_result"
    }
   ],
   "source": [
    "# Here we will check to see if any dates for 'last_transaction' are less than the date the account \n",
    "fishy_accounts = banking['account_opened'] < banking['last_transaction']\n",
    "fishy_accounts.value_counts()"
   ]
  },
  {
   "cell_type": "code",
   "execution_count": null,
   "id": "da325832-0b65-456d-aabf-62e3efa97025",
   "metadata": {
    "vscode": {
     "languageId": "python"
    }
   },
   "outputs": [
    {
     "data": {
      "text/plain": [
       "True    100\n",
       "dtype: int64"
      ]
     },
     "execution_count": 140,
     "metadata": {},
     "output_type": "execute_result"
    }
   ],
   "source": [
    "# Here we will transpose the fishy accounts by replacing the faulty 'last_transaction' dates with the 'account_opened' dates. The ideal way to do this is by talking to someone with access to the accounts and getting the correct dates. Since this is all simulated, we will utilized this method instead while calling it good enough for any purposes we may need. The idea is to have all True at the end. A key aspect is to remember that some dates now will equal one another, so be sure to have <= in this instance.\n",
    "\n",
    "banking.loc[banking.last_transaction < banking.account_opened, 'last_transaction'] = banking.account_opened\n",
    "check_accounts = banking['account_opened'] <= banking['last_transaction']\n",
    "check_accounts.value_counts()"
   ]
  },
  {
   "cell_type": "code",
   "execution_count": null,
   "id": "3d251c99-f6eb-4a5a-83e6-783737299e59",
   "metadata": {
    "vscode": {
     "languageId": "python"
    }
   },
   "outputs": [
    {
     "data": {
      "text/plain": [
       "True    100\n",
       "dtype: int64"
      ]
     },
     "execution_count": 141,
     "metadata": {},
     "output_type": "execute_result"
    }
   ],
   "source": [
    "# Time to check if the ages match the 'birth_date'. The idea here is to check and make sure that the account owners age equals the year the account owner was born. Some simple math and cross column validation will be done. If you have not already converted the 'birth_date' column to a date, do so now by utilizing the example provided earlier in this tutorial.\n",
    "\n",
    "# Step 1: Get today's date.\n",
    "today = dt.date.today()\n",
    "\n",
    "# Step 2: Calculate the difference for each row in the format of today - 'birth_date'\n",
    "age_cal = today.year - banking['birth_date'].dt.year\n",
    "\n",
    "# Step 3: Get the instances where the years equal each other.\n",
    "equal_age = age_cal == banking['Age']\n",
    "\n",
    "#Step 4: Count the inconsistencies. Since this is an old dataset, it will be 100% wrong.\n",
    "equal_age.value_counts()\n",
    "\n",
    "#Step 5: Transpose the 'Age' with the actual age.\n",
    "banking.Age = age_cal\n",
    "\n",
    "#Step 6: Recheck\n",
    "equal_age = age_cal == banking['Age']\n",
    "equal_age.value_counts()"
   ]
  },
  {
   "cell_type": "code",
   "execution_count": null,
   "id": "a3750295-3c76-480c-b88c-29458944c1a7",
   "metadata": {
    "vscode": {
     "languageId": "python"
    }
   },
   "outputs": [
    {
     "name": "stdout",
     "output_type": "stream",
     "text": [
      "<class 'pandas.core.frame.DataFrame'>\n",
      "Int64Index: 100 entries, 0 to 99\n",
      "Data columns (total 11 columns):\n",
      " #   Column            Non-Null Count  Dtype         \n",
      "---  ------            --------------  -----         \n",
      " 0   cust_id           100 non-null    object        \n",
      " 1   birth_date        100 non-null    datetime64[ns]\n",
      " 2   Age               100 non-null    int64         \n",
      " 3   acct_amount       100 non-null    float64       \n",
      " 4   inv_amount        100 non-null    float64       \n",
      " 5   fund_A            100 non-null    float64       \n",
      " 6   fund_B            100 non-null    float64       \n",
      " 7   fund_C            100 non-null    float64       \n",
      " 8   fund_D            100 non-null    float64       \n",
      " 9   account_opened    100 non-null    object        \n",
      " 10  last_transaction  100 non-null    object        \n",
      "dtypes: datetime64[ns](1), float64(6), int64(1), object(3)\n",
      "memory usage: 13.4+ KB\n"
     ]
    }
   ],
   "source": [
    "# Change 'inv_amount' to float.\n",
    "banking.inv_amount = banking.inv_amount.astype('float')\n",
    "\n",
    "banking.info()"
   ]
  },
  {
   "cell_type": "code",
   "execution_count": null,
   "id": "87525034-2576-49b7-9ec0-c596928f382e",
   "metadata": {
    "vscode": {
     "languageId": "python"
    }
   },
   "outputs": [
    {
     "data": {
      "application/com.datacamp.data-table.v1+json": {
       "is_truncated": false,
       "table": {
        "data": [
         {
          "Age": 60,
          "account_opened": "2018-09-02",
          "acct_amount": 63523.31,
          "birth_date": "1962-06-09T00:00:00.000Z",
          "cust_id": "870A9281",
          "fund_A": 30105,
          "fund_B": 4138,
          "fund_C": 1420,
          "fund_D": 15632,
          "index": 0,
          "inv_amount": 51295,
          "last_transaction": "2019-02-22"
         },
         {
          "Age": 60,
          "account_opened": "2019-02-28",
          "acct_amount": 38175.46,
          "birth_date": "1962-12-16T00:00:00.000Z",
          "cust_id": "166B05B0",
          "fund_A": 4995,
          "fund_B": 938,
          "fund_C": 6696,
          "fund_D": 2421,
          "index": 1,
          "inv_amount": 15050,
          "last_transaction": "2019-02-28"
         },
         {
          "Age": 32,
          "account_opened": "2018-04-25",
          "acct_amount": 59863.77,
          "birth_date": "1990-09-12T00:00:00.000Z",
          "cust_id": "BFC13E88",
          "fund_A": 10323,
          "fund_B": 4590,
          "fund_C": 8469,
          "fund_D": 1185,
          "index": 2,
          "inv_amount": 24567,
          "last_transaction": "2018-04-25"
         },
         {
          "Age": 37,
          "account_opened": "2017-11-07",
          "acct_amount": 84132.1,
          "birth_date": "1985-11-03T00:00:00.000Z",
          "cust_id": "F2158F66",
          "fund_A": 3908,
          "fund_B": 492,
          "fund_C": 6482,
          "fund_D": 12830,
          "index": 3,
          "inv_amount": 23712,
          "last_transaction": "2018-11-08"
         },
         {
          "Age": 32,
          "account_opened": "2018-05-14",
          "acct_amount": 120512,
          "birth_date": "1990-05-17T00:00:00.000Z",
          "cust_id": "7A73F334",
          "fund_A": 12158.4,
          "fund_B": 51281,
          "fund_C": 13434,
          "fund_D": 18383,
          "index": 4,
          "inv_amount": 93230,
          "last_transaction": "2018-07-19"
         }
        ],
        "schema": {
         "fields": [
          {
           "name": "index",
           "type": "integer"
          },
          {
           "name": "cust_id",
           "type": "string"
          },
          {
           "name": "birth_date",
           "type": "datetime"
          },
          {
           "name": "Age",
           "type": "integer"
          },
          {
           "name": "acct_amount",
           "type": "number"
          },
          {
           "name": "inv_amount",
           "type": "number"
          },
          {
           "name": "fund_A",
           "type": "number"
          },
          {
           "name": "fund_B",
           "type": "number"
          },
          {
           "name": "fund_C",
           "type": "number"
          },
          {
           "name": "fund_D",
           "type": "number"
          },
          {
           "name": "account_opened",
           "type": "string"
          },
          {
           "name": "last_transaction",
           "type": "string"
          }
         ],
         "pandas_version": "0.20.0",
         "primaryKey": [
          "index"
         ]
        }
       },
       "total_rows": 5
      },
      "text/html": [
       "<div>\n",
       "<style scoped>\n",
       "    .dataframe tbody tr th:only-of-type {\n",
       "        vertical-align: middle;\n",
       "    }\n",
       "\n",
       "    .dataframe tbody tr th {\n",
       "        vertical-align: top;\n",
       "    }\n",
       "\n",
       "    .dataframe thead th {\n",
       "        text-align: right;\n",
       "    }\n",
       "</style>\n",
       "<table border=\"1\" class=\"dataframe\">\n",
       "  <thead>\n",
       "    <tr style=\"text-align: right;\">\n",
       "      <th></th>\n",
       "      <th>cust_id</th>\n",
       "      <th>birth_date</th>\n",
       "      <th>Age</th>\n",
       "      <th>acct_amount</th>\n",
       "      <th>inv_amount</th>\n",
       "      <th>fund_A</th>\n",
       "      <th>fund_B</th>\n",
       "      <th>fund_C</th>\n",
       "      <th>fund_D</th>\n",
       "      <th>account_opened</th>\n",
       "      <th>last_transaction</th>\n",
       "    </tr>\n",
       "  </thead>\n",
       "  <tbody>\n",
       "    <tr>\n",
       "      <th>0</th>\n",
       "      <td>870A9281</td>\n",
       "      <td>1962-06-09</td>\n",
       "      <td>60</td>\n",
       "      <td>63,523.31</td>\n",
       "      <td>51,295.00</td>\n",
       "      <td>30,105.00</td>\n",
       "      <td>4,138.00</td>\n",
       "      <td>1,420.00</td>\n",
       "      <td>15,632.00</td>\n",
       "      <td>2018-09-02</td>\n",
       "      <td>2019-02-22</td>\n",
       "    </tr>\n",
       "    <tr>\n",
       "      <th>1</th>\n",
       "      <td>166B05B0</td>\n",
       "      <td>1962-12-16</td>\n",
       "      <td>60</td>\n",
       "      <td>38,175.46</td>\n",
       "      <td>15,050.00</td>\n",
       "      <td>4,995.00</td>\n",
       "      <td>938.00</td>\n",
       "      <td>6,696.00</td>\n",
       "      <td>2,421.00</td>\n",
       "      <td>2019-02-28</td>\n",
       "      <td>2019-02-28</td>\n",
       "    </tr>\n",
       "    <tr>\n",
       "      <th>2</th>\n",
       "      <td>BFC13E88</td>\n",
       "      <td>1990-09-12</td>\n",
       "      <td>32</td>\n",
       "      <td>59,863.77</td>\n",
       "      <td>24,567.00</td>\n",
       "      <td>10,323.00</td>\n",
       "      <td>4,590.00</td>\n",
       "      <td>8,469.00</td>\n",
       "      <td>1,185.00</td>\n",
       "      <td>2018-04-25</td>\n",
       "      <td>2018-04-25</td>\n",
       "    </tr>\n",
       "    <tr>\n",
       "      <th>3</th>\n",
       "      <td>F2158F66</td>\n",
       "      <td>1985-11-03</td>\n",
       "      <td>37</td>\n",
       "      <td>84,132.10</td>\n",
       "      <td>23,712.00</td>\n",
       "      <td>3,908.00</td>\n",
       "      <td>492.00</td>\n",
       "      <td>6,482.00</td>\n",
       "      <td>12,830.00</td>\n",
       "      <td>2017-11-07</td>\n",
       "      <td>2018-11-08</td>\n",
       "    </tr>\n",
       "    <tr>\n",
       "      <th>4</th>\n",
       "      <td>7A73F334</td>\n",
       "      <td>1990-05-17</td>\n",
       "      <td>32</td>\n",
       "      <td>120,512.00</td>\n",
       "      <td>93,230.00</td>\n",
       "      <td>12,158.40</td>\n",
       "      <td>51,281.00</td>\n",
       "      <td>13,434.00</td>\n",
       "      <td>18,383.00</td>\n",
       "      <td>2018-05-14</td>\n",
       "      <td>2018-07-19</td>\n",
       "    </tr>\n",
       "  </tbody>\n",
       "</table>\n",
       "</div>"
      ],
      "text/plain": [
       "    cust_id birth_date  Age  acct_amount  inv_amount    fund_A    fund_B  \\\n",
       "0  870A9281 1962-06-09   60    63,523.31   51,295.00 30,105.00  4,138.00   \n",
       "1  166B05B0 1962-12-16   60    38,175.46   15,050.00  4,995.00    938.00   \n",
       "2  BFC13E88 1990-09-12   32    59,863.77   24,567.00 10,323.00  4,590.00   \n",
       "3  F2158F66 1985-11-03   37    84,132.10   23,712.00  3,908.00    492.00   \n",
       "4  7A73F334 1990-05-17   32   120,512.00   93,230.00 12,158.40 51,281.00   \n",
       "\n",
       "     fund_C    fund_D account_opened last_transaction  \n",
       "0  1,420.00 15,632.00     2018-09-02       2019-02-22  \n",
       "1  6,696.00  2,421.00     2019-02-28       2019-02-28  \n",
       "2  8,469.00  1,185.00     2018-04-25       2018-04-25  \n",
       "3  6,482.00 12,830.00     2017-11-07       2018-11-08  \n",
       "4 13,434.00 18,383.00     2018-05-14       2018-07-19  "
      ]
     },
     "execution_count": 143,
     "metadata": {},
     "output_type": "execute_result"
    }
   ],
   "source": [
    "# Conclusion:\n",
    "\n",
    "banking.head()"
   ]
  },
  {
   "cell_type": "markdown",
   "id": "b3317e25-17e0-4f71-89fb-18d950b5bd85",
   "metadata": {},
   "source": [
    "# Conclusion\n",
    "\n",
    "\n",
    "\n"
   ]
  }
 ],
 "metadata": {
  "colab": {
   "name": "Welcome to DataCamp Workspaces.ipynb",
   "provenance": []
  },
  "kernelspec": {
   "display_name": "",
   "name": ""
  },
  "language_info": {
   "name": ""
  }
 },
 "nbformat": 4,
 "nbformat_minor": 5
}
